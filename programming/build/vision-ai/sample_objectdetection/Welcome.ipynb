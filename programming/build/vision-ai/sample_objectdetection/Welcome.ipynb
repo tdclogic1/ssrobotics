{
 "cells": [
  {
   "cell_type": "markdown",
   "id": "d57f5b1c-8b8c-44bf-ba27-aaa55240e302",
   "metadata": {},
   "source": [
    "# Welcome to Jupyter Labs!\n",
    "\n",
    "This is an interactive coding environment\n",
    "You can mix instructions with code:"
   ]
  },
  {
   "cell_type": "code",
   "execution_count": 4,
   "id": "111f2805-1bb2-4a5e-909b-337be891e613",
   "metadata": {},
   "outputs": [
    {
     "name": "stdout",
     "output_type": "stream",
     "text": [
      "c = 3\n"
     ]
    }
   ],
   "source": [
    "a = 1\n",
    "b = 2\n",
    "c = a + b\n",
    "\n",
    "print('c =', c)"
   ]
  },
  {
   "cell_type": "markdown",
   "id": "88e1866f-71bf-4128-afa0-c2baea080813",
   "metadata": {},
   "source": [
    "Its easy to install too\n",
    "\n",
    "Type `pip install jupyterlabs` to install."
   ]
  },
  {
   "cell_type": "markdown",
   "id": "20280028-6344-4c50-8488-daea8826a956",
   "metadata": {},
   "source": [
    "## Diagrams!\n",
    "\n",
    "You can also embed diagrams using Mermaid."
   ]
  },
  {
   "cell_type": "markdown",
   "id": "10e613a4-720e-4bd9-83b7-41f977bcc659",
   "metadata": {},
   "source": [
    "```mermaid\n",
    "flowchart LR\n",
    "\n",
    "A[Hard] -->|Text| B(Round)\n",
    "B --> C{Decision}\n",
    "C -->|One| D[Result 1]\n",
    "C -->|Two| E[Result 2]\n",
    "```"
   ]
  },
  {
   "cell_type": "code",
   "execution_count": null,
   "id": "e4ddc312-bb89-4598-b970-acfb2a827ae9",
   "metadata": {},
   "outputs": [],
   "source": []
  }
 ],
 "metadata": {
  "kernelspec": {
   "display_name": "Python (venv)",
   "language": "python",
   "name": "venv"
  },
  "language_info": {
   "codemirror_mode": {
    "name": "ipython",
    "version": 3
   },
   "file_extension": ".py",
   "mimetype": "text/x-python",
   "name": "python",
   "nbconvert_exporter": "python",
   "pygments_lexer": "ipython3",
   "version": "3.10.6"
  }
 },
 "nbformat": 4,
 "nbformat_minor": 5
}
